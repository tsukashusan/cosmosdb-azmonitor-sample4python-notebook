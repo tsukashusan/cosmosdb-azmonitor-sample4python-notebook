{
 "cells": [
  {
   "cell_type": "code",
   "execution_count": null,
   "metadata": {},
   "outputs": [],
   "source": [
    "from azure.cosmos import CosmosClient\n",
    "from azure.identity import ClientSecretCredential, DefaultAzureCredential\n",
    "from azure.core.exceptions import AzureError\n",
    "from azure.cosmos import CosmosClient, PartitionKey\n",
    "import azure.cosmos.exceptions as exceptions\n",
    "from dotenv import load_dotenv\n",
    "from openai import AzureOpenAI\n",
    "import json\n",
    "\n",
    "load_dotenv(verbose=True)"
   ]
  },
  {
   "cell_type": "code",
   "execution_count": 2,
   "metadata": {},
   "outputs": [],
   "source": [
    "def query_items(container, doc_id):\n",
    "    print('\\n1.4 Querying for an  Item by Id\\n')\n",
    "\n",
    "    # enable_cross_partition_query should be set to True as the container is partitioned\n",
    "    #a = container.query_items(\n",
    "    #    query=\"SELECT * FROM c WHERE c.id=@id\",\n",
    "    #    parameters=[\n",
    "    #        {\"name\": \"@id\", \"value\": doc_id}\n",
    "    #    ],\n",
    "    #    enable_cross_partition_query=True\n",
    "    #)\n",
    "\n",
    "    #items = list(container.query_items(\n",
    "    #    query=\"SELECT * FROM c\",\n",
    "    #    enable_cross_partition_query=True\n",
    "    #))\n",
    "    a = container.query_items(\n",
    "        query=\"SELECT * FROM c\",\n",
    "        enable_cross_partition_query=True\n",
    "    )\n",
    "    \n",
    "    import pandas as pd\n",
    "    df = pd.read_json(a)\n",
    "    return df\n",
    "    #obj = json.dumps(array)\n",
    "    #p = json.load(obj)\n",
    "    #print(obj)\n",
    "    #print('Item queried by Id {0}'.format(items[0].get(\"id\")))\n"
   ]
  },
  {
   "cell_type": "code",
   "execution_count": 3,
   "metadata": {},
   "outputs": [],
   "source": [
    "import os\n",
    "url = os.environ['ACCOUNT_URI']\n",
    "tenant_id = os.environ['TENANT_ID']\n",
    "#client_id = os.environ['CLIENT_ID']\n",
    "#client_secret = os.environ['CLIENT_SECRET']\n",
    "database_id = os.environ['DATABASE_ID']\n",
    "container_id = os.environ['CONTAINER_ID']\n",
    "# Using ClientSecretCredential\n",
    "#aad_credentials = ClientSecretCredential(\n",
    "#    tenant_id=tenant_id,\n",
    "#    client_id=client_id,\n",
    "#    client_secret=client_secret)\n",
    "#\n",
    "# Using DefaultAzureCredential (recommended)\n",
    "#https://github.com/Azure/azure-sdk-for-python/blob/main/sdk/cosmos/azure-cosmos/samples/document_management.py\n",
    "aad_credentials = DefaultAzureCredential()\n",
    "\n",
    "cosmosdb_client = CosmosClient(url, aad_credentials)"
   ]
  },
  {
   "cell_type": "code",
   "execution_count": 4,
   "metadata": {},
   "outputs": [],
   "source": [
    "aoaiclient = AzureOpenAI(\n",
    "    api_key=os.getenv(\"AZURE_OPENAI_API_KEY\"),  \n",
    "    api_version=\"2024-05-01-preview\",\n",
    "    azure_endpoint = os.getenv(\"AZURE_OPENAI_ENDPOINT\")\n",
    "    )\n",
    "model = os.environ['AZURE_OPENAI_MODEL_EMBEDDING']"
   ]
  },
  {
   "cell_type": "code",
   "execution_count": null,
   "metadata": {},
   "outputs": [],
   "source": [
    "text = \"昨日は暑かった。\"\n",
    "embedding_value = aoaiclient.embeddings.create(input = [text], model=model).data[0].embedding\n",
    "print(embedding_value)\n",
    "df = None"
   ]
  },
  {
   "cell_type": "code",
   "execution_count": null,
   "metadata": {},
   "outputs": [],
   "source": [
    "try:\n",
    "    # setup database for this sample\n",
    "    db = cosmosdb_client.create_database_if_not_exists(id=database_id)\n",
    "    # setup container for this sample\n",
    "    container = db.create_container_if_not_exists(id=container_id,\n",
    "                                                  partition_key=PartitionKey(path='/id', kind='Hash'))\n",
    "    df = query_items(container=container, doc_id=\"aa6999d2-3aa3-4f52-b413-f1c550f806a2\")\n",
    "    print(df)\n",
    "except exceptions.CosmosHttpResponseError as e:\n",
    "    print('\\nrun_sample has caught an error. {0}'.format(e.message))"
   ]
  },
  {
   "cell_type": "code",
   "execution_count": null,
   "metadata": {},
   "outputs": [],
   "source": [
    "print(df)"
   ]
  }
 ],
 "metadata": {
  "kernelspec": {
   "display_name": "venv",
   "language": "python",
   "name": "python3"
  },
  "language_info": {
   "codemirror_mode": {
    "name": "ipython",
    "version": 3
   },
   "file_extension": ".py",
   "mimetype": "text/x-python",
   "name": "python",
   "nbconvert_exporter": "python",
   "pygments_lexer": "ipython3",
   "version": "3.12.3"
  }
 },
 "nbformat": 4,
 "nbformat_minor": 2
}
