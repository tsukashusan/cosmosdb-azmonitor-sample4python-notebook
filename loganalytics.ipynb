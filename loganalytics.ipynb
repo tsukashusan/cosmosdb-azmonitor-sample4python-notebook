{
 "cells": [
  {
   "cell_type": "markdown",
   "metadata": {},
   "source": [
    "# Log Analytics ワークスペースをノートブックと統合する\n",
    "\n",
    "https://learn.microsoft.com/ja-jp/azure/azure-monitor/logs/notebooks-azure-monitor-logs"
   ]
  },
  {
   "cell_type": "markdown",
   "metadata": {},
   "source": [
    "## Log Analytics ワークスペースの ID に設定"
   ]
  },
  {
   "cell_type": "code",
   "execution_count": 1,
   "metadata": {},
   "outputs": [],
   "source": [
    "LOGS_WORKSPACE_ID = \"DEMO_WORKSPACE\""
   ]
  },
  {
   "cell_type": "markdown",
   "metadata": {},
   "source": [
    "## Azure Monitor ログの認証とクエリを実行するように `LogsQueryClient` を設定"
   ]
  },
  {
   "cell_type": "code",
   "execution_count": 2,
   "metadata": {},
   "outputs": [],
   "source": [
    "from azure.core.credentials import AzureKeyCredential\n",
    "from azure.core.pipeline.policies import AzureKeyCredentialPolicy\n",
    "from azure.identity import DefaultAzureCredential\n",
    "from azure.monitor.query import LogsQueryClient\n",
    "\n",
    "if LOGS_WORKSPACE_ID == \"DEMO_WORKSPACE\":\n",
    "    credential = AzureKeyCredential(\"DEMO_KEY\")\n",
    "    authentication_policy = AzureKeyCredentialPolicy(name=\"X-Api-Key\", credential=credential)\n",
    "else:\n",
    "    credential = DefaultAzureCredential()\n",
    "    authentication_policy = None\n",
    "\n",
    "logs_query_client = LogsQueryClient(credential, authentication_policy=authentication_policy)"
   ]
  },
  {
   "cell_type": "markdown",
   "metadata": {},
   "source": [
    "### Log Analytics ワークスペースで特定のクエリを実行し、結果を Pandas DataFrame として返す query_logs_workspace と呼ばれるヘルパー関数を定義"
   ]
  },
  {
   "cell_type": "code",
   "execution_count": 3,
   "metadata": {},
   "outputs": [],
   "source": [
    "import pandas as pd\n",
    "import plotly.express as px\n",
    "\n",
    "from azure.monitor.query import LogsQueryStatus\n",
    "from azure.core.exceptions import HttpResponseError\n",
    "\n",
    "\n",
    "def query_logs_workspace(query):\n",
    "    try:\n",
    "        response = logs_query_client.query_workspace(LOGS_WORKSPACE_ID, query, timespan=None)\n",
    "        if response.status == LogsQueryStatus.PARTIAL:\n",
    "            error = response.partial_error\n",
    "            data = response.partial_data\n",
    "            print(error.message)\n",
    "        elif response.status == LogsQueryStatus.SUCCESS:\n",
    "            data = response.tables\n",
    "        for table in data:\n",
    "            my_data = pd.DataFrame(data=table.rows, columns=table.columns)        \n",
    "    except HttpResponseError as err:\n",
    "        print(\"something fatal happened\")\n",
    "        print (err)\n",
    "    return my_data"
   ]
  },
  {
   "cell_type": "markdown",
   "metadata": {},
   "source": [
    "### ノートブックで Log Analytics ワークスペースからデータを探索して視覚化"
   ]
  },
  {
   "cell_type": "code",
   "execution_count": null,
   "metadata": {},
   "outputs": [],
   "source": [
    "TABLE = \"Usage\"\n",
    "\n",
    "QUERY = f\"\"\"\n",
    "let starttime = 7d; // Start date for the time series, counting back from the current date\n",
    "let endtime = 0d; // today \n",
    "{TABLE} | project TimeGenerated, DataType, Quantity \n",
    "| where TimeGenerated between (ago(starttime)..ago(endtime))\n",
    "| summarize ActualUsage=sum(Quantity) by TimeGenerated=bin(TimeGenerated, 1h), DataType\n",
    "\"\"\"\n",
    "\n",
    "df = query_logs_workspace(QUERY)\n",
    "display(df)"
   ]
  },
  {
   "cell_type": "markdown",
   "metadata": {},
   "source": [
    "### Pandas DataFrame に基づいて、時間の経過に伴うさまざまなデータ型の時間単位の使用状況を示すグラフとしてデータを表示"
   ]
  },
  {
   "cell_type": "code",
   "execution_count": null,
   "metadata": {},
   "outputs": [],
   "source": [
    "df = df.sort_values(by=\"TimeGenerated\")\n",
    "graph = px.line(df, x='TimeGenerated', y=\"ActualUsage\", color='DataType', title=\"Usage in the last week - All data types\")\n",
    "graph.show()"
   ]
  }
 ],
 "metadata": {
  "kernelspec": {
   "display_name": "venv",
   "language": "python",
   "name": "python3"
  },
  "language_info": {
   "codemirror_mode": {
    "name": "ipython",
    "version": 3
   },
   "file_extension": ".py",
   "mimetype": "text/x-python",
   "name": "python",
   "nbconvert_exporter": "python",
   "pygments_lexer": "ipython3",
   "version": "3.12.3"
  }
 },
 "nbformat": 4,
 "nbformat_minor": 2
}
